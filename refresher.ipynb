{
 "cells": [
  {
   "attachments": {},
   "cell_type": "markdown",
   "metadata": {},
   "source": [
    "# Github\n"
   ]
  },
  {
   "attachments": {},
   "cell_type": "markdown",
   "metadata": {},
   "source": [
    "## Initilizing Github\n"
   ]
  },
  {
   "cell_type": "code",
   "execution_count": null,
   "metadata": {},
   "outputs": [],
   "source": [
    "# install git from https://git-scm.com/downloads\n",
    "# configure github to generate ssh key and link it to your local machine\n",
    "# https://docs.github.com/en/authentication/connecting-to-github-with-ssh/generating-a-new-ssh-key-and-adding-it-to-the-ssh-agent\n",
    "\n",
    "# in your command terminal setup the necessary admin\n",
    "git config --global user.name <name> # set a name where your local changes are recorded to be identified\n",
    "git config --global user.email <email@domain> # set an email where changes are recorded to be identified\n",
    "\n",
    "# Make sure git commit points to your favourite editor\n",
    "# when using VS Code: Shell Command: Install ‘code’ command in path → To use VSC as the default commit message text editor"
   ]
  },
  {
   "cell_type": "markdown",
   "metadata": {},
   "source": [
    "### If you start with local files"
   ]
  },
  {
   "cell_type": "code",
   "execution_count": null,
   "metadata": {},
   "outputs": [],
   "source": [
    "# setup a folder you want to designate as a github repo\n",
    "# go to terminal and navigate to the folder cd <folder path>\n",
    "git init # make the folder a git folder\n",
    "# create a repo in github and copy the ssh url\n",
    "git remote add origin <sshurl> # set the origin for the repo\n",
    "\n",
    "# after adding some changes to your folder\n",
    "git add . # git add all changes to commit\n",
    "git commit # git commit the changes\n",
    "git push --set-upstream origin master # set up the git push to github"
   ]
  },
  {
   "attachments": {},
   "cell_type": "markdown",
   "metadata": {},
   "source": [
    "### If you start with github repo in the cloud"
   ]
  },
  {
   "cell_type": "code",
   "execution_count": null,
   "metadata": {},
   "outputs": [],
   "source": [
    "# go to terminal and navigate to the Github folder\n",
    "git clone <sshurl>\n",
    "\n",
    "# after adding some changes to your folder\n",
    "git add . # git add all changes to commit\n",
    "git commit # git commit the changes\n",
    "git push --set-upstream origin master # set up the git push to github"
   ]
  },
  {
   "attachments": {},
   "cell_type": "markdown",
   "metadata": {},
   "source": [
    "### Github Commands"
   ]
  },
  {
   "cell_type": "code",
   "execution_count": null,
   "metadata": {},
   "outputs": [],
   "source": []
  },
  {
   "cell_type": "markdown",
   "metadata": {},
   "source": [
    "# Terminal Commands\n"
   ]
  },
  {
   "attachments": {},
   "cell_type": "markdown",
   "metadata": {},
   "source": [
    "1. To copy paste the current directory from VSC, just right click and select path\n",
    "2. option left/right to jump to the ends of terminal commands\n",
    "3. ctrl+w to delete the whole line\n",
    "4. cd to navigate to a folder"
   ]
  },
  {
   "attachments": {},
   "cell_type": "markdown",
   "metadata": {},
   "source": [
    "# Extensions\n"
   ]
  },
  {
   "cell_type": "code",
   "execution_count": null,
   "metadata": {},
   "outputs": [],
   "source": [
    "# Bookmarks Extension\n",
    "import os # command + option + k to create/remove a bookmark\n",
    "# cmd + option + j/l to jump to the next bookmark"
   ]
  },
  {
   "cell_type": "code",
   "execution_count": null,
   "metadata": {},
   "outputs": [],
   "source": [
    "# Github copilot\n",
    "\n",
    "# write a comment and just press enter to go to the next line\n",
    "# press tab to get the next suggestion\n",
    "# press shift + tab to get the previous suggestion\n",
    "\n",
    "# import standard python libraries\n",
    "import os"
   ]
  }
 ],
 "metadata": {
  "kernelspec": {
   "display_name": "Python 3",
   "language": "python",
   "name": "python3"
  },
  "language_info": {
   "name": "python",
   "version": "3.10.8"
  },
  "orig_nbformat": 4,
  "vscode": {
   "interpreter": {
    "hash": "aee8b7b246df8f9039afb4144a1f6fd8d2ca17a180786b69acc140d282b71a49"
   }
  }
 },
 "nbformat": 4,
 "nbformat_minor": 2
}
