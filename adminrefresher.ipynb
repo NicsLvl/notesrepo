{
 "cells": [
  {
   "cell_type": "markdown",
   "metadata": {},
   "source": [
    "# Starting a new project"
   ]
  },
  {
   "cell_type": "code",
   "execution_count": null,
   "metadata": {},
   "outputs": [],
   "source": [
    "- requirements.txt file\n",
    "- .gitignore file\n",
    "- readme file"
   ]
  },
  {
   "attachments": {},
   "cell_type": "markdown",
   "metadata": {},
   "source": [
    "# Git/Github\n"
   ]
  },
  {
   "attachments": {},
   "cell_type": "markdown",
   "metadata": {},
   "source": [
    "## Initilizing Github\n"
   ]
  },
  {
   "cell_type": "code",
   "execution_count": null,
   "metadata": {},
   "outputs": [],
   "source": [
    "# install git from https://git-scm.com/downloads\n",
    "# configure github to generate ssh key and link it to your local machine\n",
    "# https://docs.github.com/en/authentication/connecting-to-github-with-ssh/generating-a-new-ssh-key-and-adding-it-to-the-ssh-agent\n",
    "\n",
    "# in your command terminal setup the necessary admin\n",
    "git config --global user.name <name> # set a name where your local changes are recorded to be identified\n",
    "git config --global user.email <email@domain> # set an email where changes are recorded to be identified\n",
    "\n",
    "# Make sure git commit points to your favourite editor\n",
    "# when using VS Code: Shell Command: Install ‘code’ command in path → To use VSC as the default commit message text editor"
   ]
  },
  {
   "cell_type": "markdown",
   "metadata": {},
   "source": [
    "### If you start with local files"
   ]
  },
  {
   "cell_type": "code",
   "execution_count": null,
   "metadata": {},
   "outputs": [],
   "source": [
    "# setup a folder you want to designate as a github repo\n",
    "# go to terminal and navigate to the folder cd <folder path>\n",
    "git init # make the folder a git folder\n",
    "\n",
    "# create a repo in github and copy the ssh url\n",
    "git remote add origin <sshurl> # set the origin for the repo\n",
    "\n",
    "# after adding some changes to your folder\n",
    "git add . # git add all changes to commit\n",
    "git commit # git commit the changes\n",
    "git push --set-upstream origin <branch> # set up the git push to github"
   ]
  },
  {
   "attachments": {},
   "cell_type": "markdown",
   "metadata": {},
   "source": [
    "### If you start with github repo in the cloud"
   ]
  },
  {
   "cell_type": "code",
   "execution_count": null,
   "metadata": {},
   "outputs": [],
   "source": [
    "# go to terminal and navigate to the Github folder\n",
    "git clone <sshurl>\n",
    "\n",
    "# after adding some changes to your folder\n",
    "git add . # git add all changes to commit\n",
    "git commit # git commit the changes\n",
    "git push --set-upstream origin <branch> # set up the git push to github"
   ]
  },
  {
   "attachments": {},
   "cell_type": "markdown",
   "metadata": {},
   "source": [
    "## Useful Git/Github Tips"
   ]
  },
  {
   "cell_type": "code",
   "execution_count": null,
   "metadata": {},
   "outputs": [],
   "source": [
    "# commit early and often\n",
    "# make commits atomic\n",
    "# write meaningful but concise commit messages\n",
    "\n",
    "# describe changes in imperative mood \"make X do Y\"\n",
    "# git suggests present tense messages\n",
    "\n",
    "git log --oneline # to view all the commits in a single line\n",
    "\n",
    "# when you first clone a repo, you might not see the branches\n",
    "## remote reference refers to where the remote server is currently located\n",
    "git branch -r # to view all the remote reference branches our repo knows about\n",
    "git switch <branch> # to switch to a branch based on all the remotes you see\n",
    "git remote -v # to view all the remotes you have\n",
    "git remote add <remote_name> <ssh url>## to add remotes\n",
    "## remote names\n",
    "origin # for your fork, for pushing\n",
    "upstream # for the original repo, for pulling\n",
    "\n",
    "\n",
    "# commiting\n",
    "git add <filename> <filename2> / git add .\n",
    "git commit\n",
    "git push\n",
    "git commit —-amend # amend the last commit message\n",
    "\n",
    "# merging\n",
    "git switch <main_branch> # switch to the branch you want to merge into\n",
    "git merge <branch> # merge the branch into the current branch\n",
    "\n",
    "## if the main branch already has other commits that the branch you are merging does not have\n",
    "## git will prompt a merge commit instead of a fast forward merge\n",
    "\n",
    "git push origin :<branch> # delete the branch remotely after you're done\n",
    "\n",
    "# stashing\n",
    "## if for some reason when working on a branch you need to switch back to main\n",
    "## stashing is an easy way to stash these changes and return to them later without uncessary commits\n",
    "git stash\n",
    "\n",
    "## if you have untracked files, they will not be included in stash\n",
    "git stash -u # stash untracked files as well\n",
    "\n",
    "git stash pop # pop removes the stash and applies it to the current branch\n",
    "git stash apply # this is the same as pop but it does not remove the stash\n",
    "\n",
    "git stash list # to view all your stashes\n",
    "git stash apply stash@{2} # apply only the second stash you \n",
    "\n",
    "git stash drop # drop the last stash\n",
    "git stash drop stash@{2} # drops a specific stash \n",
    "\n",
    "# git fetch\n",
    "git fetch <remote> <branch> # fetches the branch from the remote without updating the working directory\n",
    "git checkout <remote>/<branch> # checkout the branch from the remote to see whats different\n",
    "\n",
    "# git pull = git fetch + git merge\n",
    "git pull <remote> <branch> # fetches and merges the branch from the remote\n",
    "git pull # by default it will pull from the origin and the current branch\n",
    "\n",
    "# restoring versions\n",
    "## git restore allows you to revert files back to the previous commit\n",
    "git restore file.txt\n",
    "git restore —-source HEAD~1 file.txt # restore to the previous commit\n",
    "git restore --source commitID file.txt # restore to a specific commit\n",
    "git restore —staged # remove staged changes but file remains unchanged in working directory\n",
    "\n",
    "## git reset allows you to undo commits (usually done locally when not collaborating)\n",
    "git reset commitID # resets back to selected stash but changes are in working directory (prgeferable)\n",
    "git reset -—hard commitID # resets back to selected stash without changes in working directory\n",
    "\n",
    "# git revert allows you to undo commits but creates a new commit to undo changes, preserving the history (usually done when collaborating)\n",
    "git revert commitID\n"
   ]
  },
  {
   "cell_type": "markdown",
   "metadata": {},
   "source": [
    "# Terminal Commands\n"
   ]
  },
  {
   "attachments": {},
   "cell_type": "markdown",
   "metadata": {},
   "source": [
    "- To copy paste the current directory from VSC, just right click and select path\n",
    "- option left/right to jump to the ends of terminal commands\n",
    "- ctrl+w to delete the whole line\n",
    "- cd to navigate to a folder\n",
    "- cd .. to move back out of a folder\n",
    "- cd ~/{folder name} to navigate to a folder name\n",
    "- tab can help complete the auto suggestion\n",
    "- ls: list contents of folders\n",
    "- ls -a: shows hidden files\n",
    "- ls “x”/”y”: list contents of selected folder (list)\n",
    "- pwd: shows the file location (print working directory)\n",
    "- clear: clears all items on the terminal\n",
    "- open . / start .: opens the current folder in GUI\n",
    "- cd “x”/”y”: go to selected folder (change directory)\n",
    "- cd ..: go back one folder"
   ]
  },
  {
   "cell_type": "code",
   "execution_count": null,
   "metadata": {},
   "outputs": [],
   "source": [
    "## create a new python environment\n",
    "python3 -m venv <envname> # create a new python environment\n",
    "source .venv/bin/activate # activate the environment\n",
    "pip install -r requirements.txt # install the requirements\n",
    "\n",
    "pip list --outdated # list outdated packages\n",
    "pip install --upgrade <package> # upgrade a package\n",
    "\n",
    "pip uninstall <package> # uninstall a package\n",
    "\n",
    "deactivate # deactivate the environment"
   ]
  },
  {
   "attachments": {},
   "cell_type": "markdown",
   "metadata": {},
   "source": [
    "# Extensions\n"
   ]
  },
  {
   "cell_type": "code",
   "execution_count": null,
   "metadata": {},
   "outputs": [],
   "source": [
    "# Autoreload package\n",
    "%autoreload 0 : Disables the auto-reloading. This is the default setting.\n",
    "%autoreload 1 :Will only auto-reload modules that were imported using the %aimport function (e.g %aimport my_module). It’s a good option if you want to specifically auto-reload only a selected module.\n",
    "%autoreload 2 : auto-reload all the modules. Great way to make writing and testing your modules much easier."
   ]
  },
  {
   "cell_type": "code",
   "execution_count": null,
   "metadata": {},
   "outputs": [],
   "source": [
    "# Bookmarks Extension\n",
    "import os # command + option + k to create/remove a bookmark\n",
    "# cmd + option + j/l to jump to the next bookmark"
   ]
  },
  {
   "cell_type": "code",
   "execution_count": null,
   "metadata": {},
   "outputs": [],
   "source": [
    "# Github copilot\n",
    "\n",
    "# write a comment and just press enter to go to the next line\n",
    "# press tab to get the next suggestion\n",
    "# press shift + tab to get the previous suggestion\n",
    "\n",
    "# example\n",
    "# import standard python libraries\n",
    "import os"
   ]
  },
  {
   "cell_type": "code",
   "execution_count": null,
   "metadata": {},
   "outputs": [],
   "source": [
    "# GIthub copilot labs\n",
    "\n",
    "# explains code for you on the sidebar"
   ]
  },
  {
   "cell_type": "code",
   "execution_count": null,
   "metadata": {},
   "outputs": [],
   "source": [
    "# Gitlensb\n",
    "\n"
   ]
  },
  {
   "attachments": {},
   "cell_type": "markdown",
   "metadata": {},
   "source": [
    "In Python, a class is a blueprint for creating objects that encapsulate data and behavior. Defining a class allows you to define the attributes and methods that the objects will have, and specify how they should behave.\n",
    "\n",
    "Here are some of the main purposes of defining a class in Python:\n",
    "\n",
    "1. Encapsulation: A class allows you to group related data and behavior together into a single unit, which can then be treated as an object. This provides a way to encapsulate the details of the implementation, and expose a simple interface to the user.\n",
    "2. Abstraction: A class provides a level of abstraction that allows you to ignore the details of the implementation, and focus on the interface. By defining the methods that an object should have, you can specify what it should do, without worrying about how it does it.\n",
    "3. Inheritance: A class can inherit from another class, which allows you to reuse code and customize behavior. By defining a base class that provides common functionality, you can then create subclasses that specialize or extend that functionality.\n",
    "4. Polymorphism: A class can be used to define a common interface that can be implemented by different types of objects. This allows you to write code that works with objects of different types, as long as they implement the same interface.\n",
    "\n",
    "Overall, classes are a fundamental concept in object-oriented programming, and are a powerful tool for structuring and organizing code. They allow you to create complex systems that are easy to understand, extend, and maintain, by encapsulating data and behavior into reusable units."
   ]
  }
 ],
 "metadata": {
  "kernelspec": {
   "display_name": "Python 3",
   "language": "python",
   "name": "python3"
  },
  "language_info": {
   "codemirror_mode": {
    "name": "ipython",
    "version": 3
   },
   "file_extension": ".py",
   "mimetype": "text/x-python",
   "name": "python",
   "nbconvert_exporter": "python",
   "pygments_lexer": "ipython3",
   "version": "3.10.8"
  },
  "orig_nbformat": 4,
  "vscode": {
   "interpreter": {
    "hash": "aee8b7b246df8f9039afb4144a1f6fd8d2ca17a180786b69acc140d282b71a49"
   }
  }
 },
 "nbformat": 4,
 "nbformat_minor": 2
}
