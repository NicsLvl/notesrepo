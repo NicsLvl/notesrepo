{
 "cells": [
  {
   "cell_type": "markdown",
   "metadata": {},
   "source": [
    "A parametric model is a type of statistical model that assumes a specific functional form for the population distribution or the relationship between the independent and dependent variables. This means that the model has a fixed number of parameters that are estimated from the data. Examples of parametric models include linear regression, logistic regression, and Gaussian mixture models.\n",
    "\n",
    "A non-parametric model, on the other hand, does not assume a specific functional form for the population distribution or the relationship between the independent and dependent variables. Instead, these models rely on the data to determine the shape of the distribution or the relationship. Non-parametric models can be more flexible than parametric models and can capture more complex patterns in the data. Examples of non-parametric models include decision trees, k-nearest neighbors, and support vector machines.\n",
    "\n",
    "One key advantage of parametric models is that they often require fewer data points to estimate the parameters, as the model structure constrains the set of possible parameter values. This can make parametric models more efficient to train and less prone to overfitting when there is limited data. However, if the assumptions of the parametric model are incorrect, the model may perform poorly.\n",
    "\n",
    "In contrast, non-parametric models can be more robust to violations of assumptions and can capture complex patterns that may be missed by parametric models. However, they often require more data to estimate the underlying distribution or relationship, and can be more computationally expensive to train.\n",
    "\n",
    "The choice between a parametric and non-parametric model depends on the specific problem and the characteristics of the data. When the underlying distribution or relationship is known or well-understood, a parametric model can be a good choice. When the data are complex or the underlying distribution or relationship is unknown, a non-parametric model can be a better choice."
   ]
  },
  {
   "attachments": {},
   "cell_type": "markdown",
   "metadata": {},
   "source": [
    "# Regression"
   ]
  },
  {
   "cell_type": "markdown",
   "metadata": {},
   "source": [
    "A high quality dataset can produce good results with multiple models -> Model Agnostic"
   ]
  },
  {
   "cell_type": "markdown",
   "metadata": {},
   "source": [
    "## Linear Regression"
   ]
  },
  {
   "attachments": {},
   "cell_type": "markdown",
   "metadata": {},
   "source": [
    "Assumptions of linear regression\n",
    "- Linearity\n",
    "- Independent (Value of the dependent variable for one observation does not depend on the value of the dependent variable for another observation)\n",
    "- Normality (Variables are normally distributed)\n",
    "- Equal Variance (Homoscedasticity)\n",
    "- No Multi Colinearity (refers to the presence of a strong correlation between two or more independent variables in the regression model. )"
   ]
  },
  {
   "cell_type": "markdown",
   "metadata": {},
   "source": [
    "# Classification"
   ]
  },
  {
   "attachments": {},
   "cell_type": "markdown",
   "metadata": {},
   "source": [
    "## Evaluation\n",
    "### Confusion Matrix\n",
    "- accuracy = TP + TN / Total\n",
    "\n",
    "Usually we are only concerned with one of the classes hence your desired class should be the positive class\n",
    "- recall = TP / (TP + FN) *i.e. how many positive predictions did you get correct?*\n",
    "- precision = TP / (TP + FP) *i.e. when you predict positive, how likely is it true?*\n",
    "- f-measure = 2*recall*precision / recall + precision *a harmonic mean of recall and precision*"
   ]
  }
 ],
 "metadata": {
  "kernelspec": {
   "display_name": "Python 3",
   "language": "python",
   "name": "python3"
  },
  "language_info": {
   "name": "python",
   "version": "3.10.8"
  },
  "orig_nbformat": 4,
  "vscode": {
   "interpreter": {
    "hash": "aee8b7b246df8f9039afb4144a1f6fd8d2ca17a180786b69acc140d282b71a49"
   }
  }
 },
 "nbformat": 4,
 "nbformat_minor": 2
}
